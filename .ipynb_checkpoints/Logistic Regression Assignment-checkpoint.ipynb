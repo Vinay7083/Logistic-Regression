{
 "cells": [
  {
   "cell_type": "code",
   "execution_count": 1,
   "id": "b06313da-e4b8-4ca9-b638-6c96ca123878",
   "metadata": {},
   "outputs": [],
   "source": [
    "import pandas as pd\n",
    "import numpy as np\n",
    "import matplotlib\n",
    "from matplotlib import pyplot as plt\n",
    "import pylab\n",
    "from pylab import legend, plot, show, title, xlabel, ylabel\n",
    "import seaborn as sns\n",
    "from numpy import random\n",
    "import statsmodels.api as sm\n",
    "from statsmodels.formula.api import ols\n",
    "import statsmodels.stats.multicomp\n",
    "import os\n",
    "import scipy \n",
    "from scipy import stats\n",
    "from scipy.stats import binom\n",
    "from scipy.stats import poisson, norm, t\n",
    "from scipy.stats import chisquare\n",
    "from scipy.stats import chi2_contingency\n",
    "from sklearn.model_selection import train_test_split\n",
    "from sklearn.metrics import confusion_matrix\n",
    "from sklearn.metrics import classification_report\n",
    "from statsmodels.stats.outliers_influence import variance_inflation_factor\n",
    "\n",
    "from statsmodels import discrete\n",
    "from statsmodels.discrete import discrete_model\n",
    "from statsmodels.discrete.discrete_model import MNLogit #multi nominal\n",
    "from statsmodels.miscmodels.ordinal_model import OrderedModel #multi nominal\n",
    "\n",
    "import statsmodels.formula.api as smf\n",
    "from statsmodels.discrete.discrete_model import Poisson as psn\n",
    "\n",
    "from statsmodels.discrete.discrete_model import NegativeBinomial as ngb\n",
    "from sklearn.feature_selection import mutual_info_classif\n",
    "from sklearn.ensemble import ExtraTreesClassifier\n",
    "\n",
    "from sklearn.feature_selection import mutual_info_classif\n",
    "from sklearn.feature_selection import SelectKBest"
   ]
  },
  {
   "cell_type": "code",
   "execution_count": null,
   "id": "91afd909-bb4e-42e4-ab82-b7ac573ab21c",
   "metadata": {},
   "outputs": [],
   "source": []
  }
 ],
 "metadata": {
  "kernelspec": {
   "display_name": "Python 3 (ipykernel)",
   "language": "python",
   "name": "python3"
  },
  "language_info": {
   "codemirror_mode": {
    "name": "ipython",
    "version": 3
   },
   "file_extension": ".py",
   "mimetype": "text/x-python",
   "name": "python",
   "nbconvert_exporter": "python",
   "pygments_lexer": "ipython3",
   "version": "3.12.5"
  }
 },
 "nbformat": 4,
 "nbformat_minor": 5
}
